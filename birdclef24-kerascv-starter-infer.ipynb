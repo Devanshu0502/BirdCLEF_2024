{
 "cells": [
  {
   "cell_type": "markdown",
   "id": "8b7a444e",
   "metadata": {
    "papermill": {
     "duration": 0.008037,
     "end_time": "2024-04-20T13:07:59.480239",
     "exception": false,
     "start_time": "2024-04-20T13:07:59.472202",
     "status": "completed"
    },
    "tags": []
   },
   "source": [
    "<center><img src=\"https://keras.io/img/logo-small.png\" alt=\"Keras logo\" width=\"100\"><br/>\n",
    "This starter notebook is provided by the Keras team.</center>"
   ]
  },
  {
   "cell_type": "markdown",
   "id": "bd3b2962",
   "metadata": {
    "papermill": {
     "duration": 0.006916,
     "end_time": "2024-04-20T13:07:59.494534",
     "exception": false,
     "start_time": "2024-04-20T13:07:59.487618",
     "status": "completed"
    },
    "tags": []
   },
   "source": [
    "# BirdCLEF 2024 with [KerasCV](https://github.com/keras-team/keras-cv) and [Keras](https://github.com/keras-team/keras)\n",
    "\n",
    "> The objective of this competition is to identify under-studied Indian bird species by their calls.\n",
    "\n",
    "<div align=\"center\">\n",
    "  <img src=\"https://i.ibb.co/47F4P9R/birdclef2024.png\">\n",
    "</div>\n",
    "\n",
    "This notebook guides you through the process of inferring a Deep Learning model to recognize bird species by their songs (audio data). As the inference requires running only on the `CPU`, we had to create a separate notebooks for training and inference. You can find the [training notebook here](https://www.kaggle.com/code/awsaf49/birdclef24-kerascv-starter-train). Just as a recap of the training notebook, it uses the EfficientNetV2 backbone from KerasCV on the competition dataset. That notebook also demonstrates how to convert audio data to mel-spectrograms using Keras.\n",
    "\n",
    "<u>Fun fact</u>: Both the training and inference notebooks are backend-agnostic, supporting TensorFlow, PyTorch, and JAX. Utilizing KerasCV and Keras allows us to choose our preferred backend. Explore more details on [Keras](https://keras.io/keras_core/announcement/).\n",
    "\n",
    "In this notebook, you will learn:\n",
    "\n",
    "- Designing a data pipeline for audio data, including audio-to-spectrogram conversion.\n",
    "- Loading the data efficiently using [`tf.data`](https://www.tensorflow.org/guide/data).\n",
    "- Creating the model using KerasCV presets.\n",
    "- Inferring the trained model.\n",
    "\n",
    "**Note**: For a more in-depth understanding of KerasCV, refer to the [KerasCV guides](https://keras.io/guides/keras_cv/)."
   ]
  },
  {
   "cell_type": "markdown",
   "id": "d18612bb",
   "metadata": {
    "papermill": {
     "duration": 0.006764,
     "end_time": "2024-04-20T13:07:59.508571",
     "exception": false,
     "start_time": "2024-04-20T13:07:59.501807",
     "status": "completed"
    },
    "tags": []
   },
   "source": [
    "# Import Libraries 📚"
   ]
  },
  {
   "cell_type": "code",
   "execution_count": 1,
   "id": "36e4bc87",
   "metadata": {
    "_cell_guid": "b1076dfc-b9ad-4769-8c92-a6c4dae69d19",
    "_kg_hide-output": true,
    "_uuid": "8f2839f25d086af736a60e9eeb907d3b93b6e0e5",
    "execution": {
     "iopub.execute_input": "2024-04-20T13:07:59.525456Z",
     "iopub.status.busy": "2024-04-20T13:07:59.524522Z",
     "iopub.status.idle": "2024-04-20T13:08:23.699824Z",
     "shell.execute_reply": "2024-04-20T13:08:23.698590Z"
    },
    "papermill": {
     "duration": 24.187195,
     "end_time": "2024-04-20T13:08:23.702791",
     "exception": false,
     "start_time": "2024-04-20T13:07:59.515596",
     "status": "completed"
    },
    "tags": []
   },
   "outputs": [
    {
     "name": "stderr",
     "output_type": "stream",
     "text": [
      "2024-04-20 13:08:05.974454: E external/local_xla/xla/stream_executor/cuda/cuda_dnn.cc:9261] Unable to register cuDNN factory: Attempting to register factory for plugin cuDNN when one has already been registered\n",
      "2024-04-20 13:08:05.974597: E external/local_xla/xla/stream_executor/cuda/cuda_fft.cc:607] Unable to register cuFFT factory: Attempting to register factory for plugin cuFFT when one has already been registered\n",
      "2024-04-20 13:08:06.139994: E external/local_xla/xla/stream_executor/cuda/cuda_blas.cc:1515] Unable to register cuBLAS factory: Attempting to register factory for plugin cuBLAS when one has already been registered\n",
      "/tmp/ipykernel_18/1585041062.py:23: MatplotlibDeprecationWarning: The get_cmap function was deprecated in Matplotlib 3.7 and will be removed two minor releases later. Use ``matplotlib.colormaps[name]`` or ``matplotlib.colormaps.get_cmap(obj)`` instead.\n",
      "  cmap = mpl.cm.get_cmap('coolwarm')\n"
     ]
    }
   ],
   "source": [
    "import os\n",
    "os.environ[\"KERAS_BACKEND\"] = \"tensorflow\"  # \"jax\" or \"tensorflow\" or \"torch\" \n",
    "\n",
    "import keras_cv\n",
    "import keras\n",
    "import keras.backend as K\n",
    "import tensorflow as tf\n",
    "import tensorflow_io as tfio\n",
    "\n",
    "import numpy as np \n",
    "import pandas as pd\n",
    "\n",
    "from glob import glob\n",
    "from tqdm import tqdm\n",
    "\n",
    "import librosa\n",
    "import IPython.display as ipd\n",
    "import librosa.display as lid\n",
    "\n",
    "import matplotlib.pyplot as plt\n",
    "import matplotlib as mpl\n",
    "\n",
    "cmap = mpl.cm.get_cmap('coolwarm')"
   ]
  },
  {
   "cell_type": "markdown",
   "id": "8e9ce10a",
   "metadata": {
    "papermill": {
     "duration": 0.007559,
     "end_time": "2024-04-20T13:08:23.717930",
     "exception": false,
     "start_time": "2024-04-20T13:08:23.710371",
     "status": "completed"
    },
    "tags": []
   },
   "source": [
    "# Configuration ⚙️"
   ]
  },
  {
   "cell_type": "code",
   "execution_count": 2,
   "id": "9c04572f",
   "metadata": {
    "execution": {
     "iopub.execute_input": "2024-04-20T13:08:23.735258Z",
     "iopub.status.busy": "2024-04-20T13:08:23.734526Z",
     "iopub.status.idle": "2024-04-20T13:08:23.770568Z",
     "shell.execute_reply": "2024-04-20T13:08:23.769614Z"
    },
    "papermill": {
     "duration": 0.047822,
     "end_time": "2024-04-20T13:08:23.773169",
     "exception": false,
     "start_time": "2024-04-20T13:08:23.725347",
     "status": "completed"
    },
    "tags": []
   },
   "outputs": [],
   "source": [
    "class CFG:\n",
    "    seed = 42\n",
    "    \n",
    "    # Input image size and batch size\n",
    "    img_size = [128, 384]\n",
    "    \n",
    "    # Audio duration, sample rate, and length\n",
    "    duration = 15 # second\n",
    "    sample_rate = 32000\n",
    "    audio_len = duration*sample_rate\n",
    "    \n",
    "    # STFT parameters\n",
    "    nfft = 2028\n",
    "    window = 2048\n",
    "    hop_length = audio_len // (img_size[1] - 1)\n",
    "    fmin = 20\n",
    "    fmax = 16000\n",
    "    \n",
    "    # Number of epochs, model name\n",
    "    preset = 'efficientnetv2_b2_imagenet'\n",
    "\n",
    "    # Class Labels for BirdCLEF 24\n",
    "    class_names = sorted(os.listdir('/kaggle/input/birdclef-2024/train_audio/'))\n",
    "    num_classes = len(class_names)\n",
    "    class_labels = list(range(num_classes))\n",
    "    label2name = dict(zip(class_labels, class_names))\n",
    "    name2label = {v:k for k,v in label2name.items()}"
   ]
  },
  {
   "cell_type": "markdown",
   "id": "76fb302a",
   "metadata": {
    "papermill": {
     "duration": 0.007453,
     "end_time": "2024-04-20T13:08:23.788239",
     "exception": false,
     "start_time": "2024-04-20T13:08:23.780786",
     "status": "completed"
    },
    "tags": []
   },
   "source": [
    "# Reproducibility ♻️\n",
    "Sets value for random seed to produce similar result in each run."
   ]
  },
  {
   "cell_type": "code",
   "execution_count": 3,
   "id": "f5269214",
   "metadata": {
    "_kg_hide-input": true,
    "execution": {
     "iopub.execute_input": "2024-04-20T13:08:23.805411Z",
     "iopub.status.busy": "2024-04-20T13:08:23.804684Z",
     "iopub.status.idle": "2024-04-20T13:08:23.809484Z",
     "shell.execute_reply": "2024-04-20T13:08:23.808597Z"
    },
    "papermill": {
     "duration": 0.016221,
     "end_time": "2024-04-20T13:08:23.811861",
     "exception": false,
     "start_time": "2024-04-20T13:08:23.795640",
     "status": "completed"
    },
    "tags": []
   },
   "outputs": [],
   "source": [
    "tf.keras.utils.set_random_seed(CFG.seed)"
   ]
  },
  {
   "cell_type": "markdown",
   "id": "1953ffa4",
   "metadata": {
    "papermill": {
     "duration": 0.007453,
     "end_time": "2024-04-20T13:08:23.827062",
     "exception": false,
     "start_time": "2024-04-20T13:08:23.819609",
     "status": "completed"
    },
    "tags": []
   },
   "source": [
    "# Dataset Path 📁"
   ]
  },
  {
   "cell_type": "code",
   "execution_count": 4,
   "id": "d951fcbd",
   "metadata": {
    "_kg_hide-input": true,
    "execution": {
     "iopub.execute_input": "2024-04-20T13:08:23.845080Z",
     "iopub.status.busy": "2024-04-20T13:08:23.844666Z",
     "iopub.status.idle": "2024-04-20T13:08:23.849470Z",
     "shell.execute_reply": "2024-04-20T13:08:23.848285Z"
    },
    "papermill": {
     "duration": 0.016332,
     "end_time": "2024-04-20T13:08:23.852126",
     "exception": false,
     "start_time": "2024-04-20T13:08:23.835794",
     "status": "completed"
    },
    "tags": []
   },
   "outputs": [],
   "source": [
    "BASE_PATH = '/kaggle/input/birdclef-2024'"
   ]
  },
  {
   "cell_type": "markdown",
   "id": "0fe5a85a",
   "metadata": {
    "papermill": {
     "duration": 0.00737,
     "end_time": "2024-04-20T13:08:23.866852",
     "exception": false,
     "start_time": "2024-04-20T13:08:23.859482",
     "status": "completed"
    },
    "tags": []
   },
   "source": [
    "# Test Data 📖"
   ]
  },
  {
   "cell_type": "code",
   "execution_count": 5,
   "id": "cbe2b0b6",
   "metadata": {
    "_kg_hide-input": true,
    "execution": {
     "iopub.execute_input": "2024-04-20T13:08:23.884041Z",
     "iopub.status.busy": "2024-04-20T13:08:23.883254Z",
     "iopub.status.idle": "2024-04-20T13:08:24.274195Z",
     "shell.execute_reply": "2024-04-20T13:08:24.273017Z"
    },
    "papermill": {
     "duration": 0.402388,
     "end_time": "2024-04-20T13:08:24.276709",
     "exception": false,
     "start_time": "2024-04-20T13:08:23.874321",
     "status": "completed"
    },
    "tags": []
   },
   "outputs": [
    {
     "data": {
      "text/html": [
       "<div>\n",
       "<style scoped>\n",
       "    .dataframe tbody tr th:only-of-type {\n",
       "        vertical-align: middle;\n",
       "    }\n",
       "\n",
       "    .dataframe tbody tr th {\n",
       "        vertical-align: top;\n",
       "    }\n",
       "\n",
       "    .dataframe thead th {\n",
       "        text-align: right;\n",
       "    }\n",
       "</style>\n",
       "<table border=\"1\" class=\"dataframe\">\n",
       "  <thead>\n",
       "    <tr style=\"text-align: right;\">\n",
       "      <th></th>\n",
       "      <th>filepath</th>\n",
       "    </tr>\n",
       "  </thead>\n",
       "  <tbody>\n",
       "    <tr>\n",
       "      <th>0</th>\n",
       "      <td>/kaggle/input/birdclef-2024/unlabeled_soundsca...</td>\n",
       "    </tr>\n",
       "    <tr>\n",
       "      <th>1</th>\n",
       "      <td>/kaggle/input/birdclef-2024/unlabeled_soundsca...</td>\n",
       "    </tr>\n",
       "    <tr>\n",
       "      <th>2</th>\n",
       "      <td>/kaggle/input/birdclef-2024/unlabeled_soundsca...</td>\n",
       "    </tr>\n",
       "    <tr>\n",
       "      <th>3</th>\n",
       "      <td>/kaggle/input/birdclef-2024/unlabeled_soundsca...</td>\n",
       "    </tr>\n",
       "    <tr>\n",
       "      <th>4</th>\n",
       "      <td>/kaggle/input/birdclef-2024/unlabeled_soundsca...</td>\n",
       "    </tr>\n",
       "  </tbody>\n",
       "</table>\n",
       "</div>"
      ],
      "text/plain": [
       "                                            filepath\n",
       "0  /kaggle/input/birdclef-2024/unlabeled_soundsca...\n",
       "1  /kaggle/input/birdclef-2024/unlabeled_soundsca...\n",
       "2  /kaggle/input/birdclef-2024/unlabeled_soundsca...\n",
       "3  /kaggle/input/birdclef-2024/unlabeled_soundsca...\n",
       "4  /kaggle/input/birdclef-2024/unlabeled_soundsca..."
      ]
     },
     "execution_count": 5,
     "metadata": {},
     "output_type": "execute_result"
    }
   ],
   "source": [
    "test_paths = glob(f'{BASE_PATH}/test_soundscapes/*ogg')\n",
    "# During commit use `unlabeled` data as there is no `test` data.\n",
    "# During submission `test` data will automatically be populated.\n",
    "if len(test_paths)==0:\n",
    "    test_paths = glob(f'{BASE_PATH}/unlabeled_soundscapes/*ogg')[:10]\n",
    "test_df = pd.DataFrame(test_paths, columns=['filepath'])\n",
    "test_df.head()"
   ]
  },
  {
   "cell_type": "markdown",
   "id": "c8ba311d",
   "metadata": {
    "papermill": {
     "duration": 0.007504,
     "end_time": "2024-04-20T13:08:24.291987",
     "exception": false,
     "start_time": "2024-04-20T13:08:24.284483",
     "status": "completed"
    },
    "tags": []
   },
   "source": [
    "# Modeling 🤖\n",
    "\n",
    "Note that our model was trained on `10 second` duration audio files, but we will infer on `5-second` audio files (as per competition rules). To facilitate this, we have set the model input shape to `(None, None, 3)`, which will allow us to have variable-length input during training and inference."
   ]
  },
  {
   "cell_type": "code",
   "execution_count": 6,
   "id": "e7524fc1",
   "metadata": {
    "_kg_hide-input": true,
    "execution": {
     "iopub.execute_input": "2024-04-20T13:08:24.309602Z",
     "iopub.status.busy": "2024-04-20T13:08:24.308955Z",
     "iopub.status.idle": "2024-04-20T13:08:33.441602Z",
     "shell.execute_reply": "2024-04-20T13:08:33.440105Z"
    },
    "papermill": {
     "duration": 9.148802,
     "end_time": "2024-04-20T13:08:33.448482",
     "exception": false,
     "start_time": "2024-04-20T13:08:24.299680",
     "status": "completed"
    },
    "tags": []
   },
   "outputs": [
    {
     "name": "stderr",
     "output_type": "stream",
     "text": [
      "Attaching 'config.json' from model 'keras/efficientnetv2/keras/efficientnetv2_b2_imagenet/2' to your Kaggle notebook...\n",
      "Attaching 'config.json' from model 'keras/efficientnetv2/keras/efficientnetv2_b2_imagenet/2' to your Kaggle notebook...\n",
      "Attaching 'model.weights.h5' from model 'keras/efficientnetv2/keras/efficientnetv2_b2_imagenet/2' to your Kaggle notebook...\n"
     ]
    }
   ],
   "source": [
    "# Create an input layer for the model\n",
    "inp = keras.layers.Input(shape=(None, None, 3))\n",
    "# Pretrained backbone\n",
    "backbone = keras_cv.models.EfficientNetV2Backbone.from_preset(\n",
    "    CFG.preset,\n",
    ")\n",
    "out = keras_cv.models.ImageClassifier(\n",
    "    backbone=backbone,\n",
    "    num_classes=CFG.num_classes,\n",
    "    name=\"classifier\"\n",
    ")(inp)\n",
    "# Build model\n",
    "model = keras.models.Model(inputs=inp, outputs=out)\n",
    "# Load weights of trained model\n",
    "model.load_weights(\"/kaggle/input/birdclef24-kerascv-starter-train/best_model.weights.h5\")"
   ]
  },
  {
   "cell_type": "markdown",
   "id": "93bcf788",
   "metadata": {
    "papermill": {
     "duration": 0.010637,
     "end_time": "2024-04-20T13:08:33.470360",
     "exception": false,
     "start_time": "2024-04-20T13:08:33.459723",
     "status": "completed"
    },
    "tags": []
   },
   "source": [
    "# Data Loader 🍚\n",
    "\n",
    "The following code will decode the raw audio from `.ogg` file and also decode the spectrogram from the `audio` file. Additionally, we will apply Z-Score standardization and Min-Max normalization to ensure consistent inputs to the model."
   ]
  },
  {
   "cell_type": "code",
   "execution_count": 7,
   "id": "5f6a2e02",
   "metadata": {
    "execution": {
     "iopub.execute_input": "2024-04-20T13:08:33.492137Z",
     "iopub.status.busy": "2024-04-20T13:08:33.491668Z",
     "iopub.status.idle": "2024-04-20T13:08:33.507864Z",
     "shell.execute_reply": "2024-04-20T13:08:33.506788Z"
    },
    "papermill": {
     "duration": 0.028576,
     "end_time": "2024-04-20T13:08:33.510502",
     "exception": false,
     "start_time": "2024-04-20T13:08:33.481926",
     "status": "completed"
    },
    "tags": []
   },
   "outputs": [],
   "source": [
    "# Decodes Audio\n",
    "def build_decoder(with_labels=True, dim=1024):\n",
    "    def get_audio(filepath):\n",
    "        file_bytes = tf.io.read_file(filepath)\n",
    "        audio = tfio.audio.decode_vorbis(file_bytes) # decode .ogg file\n",
    "        audio = tf.cast(audio, tf.float32)\n",
    "        if tf.shape(audio)[1]>1: # stereo -> mono\n",
    "            audio = audio[...,0:1]\n",
    "        audio = tf.squeeze(audio, axis=-1)\n",
    "        return audio\n",
    "    \n",
    "    def create_frames(audio, duration=5, sr=32000):\n",
    "        frame_size = int(duration * sr)\n",
    "        audio = tf.pad(audio[..., None], [[0, tf.shape(audio)[0] % frame_size], [0, 0]]) # pad the end\n",
    "        audio = tf.squeeze(audio) # remove extra dimension added for padding\n",
    "        frames = tf.reshape(audio, [-1, frame_size]) # shape: [num_frames, frame_size]\n",
    "        return frames\n",
    "    \n",
    "    def apply_preproc(spec):\n",
    "        # Standardize\n",
    "        mean = tf.math.reduce_mean(spec)\n",
    "        std = tf.math.reduce_std(spec)\n",
    "        spec = tf.where(tf.math.equal(std, 0), spec - mean, (spec - mean) / std)\n",
    "\n",
    "        # Normalize using Min-Max\n",
    "        min_val = tf.math.reduce_min(spec)\n",
    "        max_val = tf.math.reduce_max(spec)\n",
    "        spec = tf.where(tf.math.equal(max_val - min_val, 0), spec - min_val,\n",
    "                              (spec - min_val) / (max_val - min_val))\n",
    "        return spec\n",
    "\n",
    "    def decode(path):\n",
    "        # Load audio file\n",
    "        audio = get_audio(path)\n",
    "        # Split audio file into frames with each having 5 seecond duration\n",
    "        audio = create_frames(audio)\n",
    "        # Convert audio to spectrogram\n",
    "        spec = keras.layers.MelSpectrogram(num_mel_bins=CFG.img_size[0],\n",
    "                                             fft_length=CFG.nfft, \n",
    "                                              sequence_stride=CFG.hop_length, \n",
    "                                              sampling_rate=CFG.sample_rate)(audio)\n",
    "        # Apply normalization and standardization\n",
    "        spec = apply_preproc(spec)\n",
    "        # Covnert spectrogram to 3 channel image (for imagenet)\n",
    "        spec = tf.tile(spec[..., None], [1, 1, 1, 3])\n",
    "        return spec\n",
    "    \n",
    "    return decode"
   ]
  },
  {
   "cell_type": "code",
   "execution_count": 8,
   "id": "09ae84a4",
   "metadata": {
    "execution": {
     "iopub.execute_input": "2024-04-20T13:08:33.528599Z",
     "iopub.status.busy": "2024-04-20T13:08:33.528134Z",
     "iopub.status.idle": "2024-04-20T13:08:33.536357Z",
     "shell.execute_reply": "2024-04-20T13:08:33.534982Z"
    },
    "papermill": {
     "duration": 0.02028,
     "end_time": "2024-04-20T13:08:33.538949",
     "exception": false,
     "start_time": "2024-04-20T13:08:33.518669",
     "status": "completed"
    },
    "tags": []
   },
   "outputs": [],
   "source": [
    "# Build data loader\n",
    "def build_dataset(paths, batch_size=1, decode_fn=None, cache=False):\n",
    "    if decode_fn is None:\n",
    "        decode_fn = build_decoder(dim=CFG.audio_len) # decoder\n",
    "    AUTO = tf.data.experimental.AUTOTUNE\n",
    "    slices = (paths,)\n",
    "    ds = tf.data.Dataset.from_tensor_slices(slices)\n",
    "    ds = ds.map(decode_fn, num_parallel_calls=AUTO) # decode audio to spectrograms then create frames\n",
    "    ds = ds.cache() if cache else ds # cache files\n",
    "    ds = ds.batch(batch_size, drop_remainder=False) # create batches\n",
    "    ds = ds.prefetch(AUTO)\n",
    "    return ds"
   ]
  },
  {
   "cell_type": "markdown",
   "id": "bc378cc2",
   "metadata": {
    "papermill": {
     "duration": 0.007721,
     "end_time": "2024-04-20T13:08:33.554744",
     "exception": false,
     "start_time": "2024-04-20T13:08:33.547023",
     "status": "completed"
    },
    "tags": []
   },
   "source": [
    "# Inference 🏃"
   ]
  },
  {
   "cell_type": "code",
   "execution_count": 9,
   "id": "c21d3b6c",
   "metadata": {
    "execution": {
     "iopub.execute_input": "2024-04-20T13:08:33.572635Z",
     "iopub.status.busy": "2024-04-20T13:08:33.572216Z",
     "iopub.status.idle": "2024-04-20T13:09:16.299890Z",
     "shell.execute_reply": "2024-04-20T13:09:16.298642Z"
    },
    "papermill": {
     "duration": 42.740246,
     "end_time": "2024-04-20T13:09:16.303036",
     "exception": false,
     "start_time": "2024-04-20T13:08:33.562790",
     "status": "completed"
    },
    "tags": []
   },
   "outputs": [
    {
     "name": "stderr",
     "output_type": "stream",
     "text": [
      "test : 100%|██████████| 10/10 [00:23<00:00,  2.37s/it]\n"
     ]
    }
   ],
   "source": [
    "# Initialize empty list to store ids\n",
    "ids = []\n",
    "\n",
    "# Initialize empty array to store predictions\n",
    "preds = np.empty(shape=(0, CFG.num_classes), dtype='float32')\n",
    "\n",
    "# Build test dataset\n",
    "test_paths = test_df.filepath.tolist()\n",
    "test_ds = build_dataset(paths=test_paths, batch_size=1)\n",
    "\n",
    "# Iterate over each audio file in the test dataset\n",
    "for idx, specs in enumerate(tqdm(iter(test_ds), desc='test ', total=len(test_df))):\n",
    "    # Extract the filename without the extension\n",
    "    filename = test_paths[idx].split('/')[-1].replace('.ogg','')\n",
    "    \n",
    "    # Convert to backend-specific tensor while excluding extra dimension\n",
    "    specs = keras.ops.convert_to_tensor(specs[0])\n",
    "    \n",
    "    # Predict bird species for all frames in a recording using all trained models\n",
    "    frame_preds = model.predict(specs, verbose=0)\n",
    "    \n",
    "    # Create a ID for each frame in a recording using the filename and frame number\n",
    "    frame_ids = [f'{filename}_{(frame_id+1)*5}' for frame_id in range(len(frame_preds))]\n",
    "    \n",
    "    # Concatenate the ids\n",
    "    ids += frame_ids\n",
    "    # Concatenate the predictions\n",
    "    preds = np.concatenate([preds, frame_preds], axis=0)"
   ]
  },
  {
   "cell_type": "markdown",
   "id": "9c3e7643",
   "metadata": {
    "papermill": {
     "duration": 0.008888,
     "end_time": "2024-04-20T13:09:16.321333",
     "exception": false,
     "start_time": "2024-04-20T13:09:16.312445",
     "status": "completed"
    },
    "tags": []
   },
   "source": [
    "# Submission ✉️"
   ]
  },
  {
   "cell_type": "code",
   "execution_count": 10,
   "id": "0e33f65c",
   "metadata": {
    "execution": {
     "iopub.execute_input": "2024-04-20T13:09:16.341913Z",
     "iopub.status.busy": "2024-04-20T13:09:16.341507Z",
     "iopub.status.idle": "2024-04-20T13:09:16.669228Z",
     "shell.execute_reply": "2024-04-20T13:09:16.667932Z"
    },
    "papermill": {
     "duration": 0.34134,
     "end_time": "2024-04-20T13:09:16.671976",
     "exception": false,
     "start_time": "2024-04-20T13:09:16.330636",
     "status": "completed"
    },
    "tags": []
   },
   "outputs": [
    {
     "data": {
      "text/html": [
       "<div>\n",
       "<style scoped>\n",
       "    .dataframe tbody tr th:only-of-type {\n",
       "        vertical-align: middle;\n",
       "    }\n",
       "\n",
       "    .dataframe tbody tr th {\n",
       "        vertical-align: top;\n",
       "    }\n",
       "\n",
       "    .dataframe thead th {\n",
       "        text-align: right;\n",
       "    }\n",
       "</style>\n",
       "<table border=\"1\" class=\"dataframe\">\n",
       "  <thead>\n",
       "    <tr style=\"text-align: right;\">\n",
       "      <th></th>\n",
       "      <th>row_id</th>\n",
       "      <th>asbfly</th>\n",
       "      <th>ashdro1</th>\n",
       "      <th>ashpri1</th>\n",
       "      <th>ashwoo2</th>\n",
       "      <th>asikoe2</th>\n",
       "      <th>asiope1</th>\n",
       "      <th>aspfly1</th>\n",
       "      <th>aspswi1</th>\n",
       "      <th>barfly1</th>\n",
       "      <th>...</th>\n",
       "      <th>whbwoo2</th>\n",
       "      <th>whcbar1</th>\n",
       "      <th>whiter2</th>\n",
       "      <th>whrmun</th>\n",
       "      <th>whtkin2</th>\n",
       "      <th>woosan</th>\n",
       "      <th>wynlau1</th>\n",
       "      <th>yebbab1</th>\n",
       "      <th>yebbul3</th>\n",
       "      <th>zitcis1</th>\n",
       "    </tr>\n",
       "  </thead>\n",
       "  <tbody>\n",
       "    <tr>\n",
       "      <th>0</th>\n",
       "      <td>1872382287_5</td>\n",
       "      <td>0.004292</td>\n",
       "      <td>0.005831</td>\n",
       "      <td>0.000661</td>\n",
       "      <td>0.000982</td>\n",
       "      <td>0.002183</td>\n",
       "      <td>0.000507</td>\n",
       "      <td>0.002637</td>\n",
       "      <td>0.000673</td>\n",
       "      <td>0.000792</td>\n",
       "      <td>...</td>\n",
       "      <td>0.002693</td>\n",
       "      <td>0.000534</td>\n",
       "      <td>0.001849</td>\n",
       "      <td>0.005823</td>\n",
       "      <td>0.008234</td>\n",
       "      <td>0.002441</td>\n",
       "      <td>0.000124</td>\n",
       "      <td>0.000262</td>\n",
       "      <td>0.000440</td>\n",
       "      <td>0.001411</td>\n",
       "    </tr>\n",
       "    <tr>\n",
       "      <th>1</th>\n",
       "      <td>1872382287_10</td>\n",
       "      <td>0.003028</td>\n",
       "      <td>0.004529</td>\n",
       "      <td>0.000466</td>\n",
       "      <td>0.000658</td>\n",
       "      <td>0.003599</td>\n",
       "      <td>0.000515</td>\n",
       "      <td>0.003603</td>\n",
       "      <td>0.001392</td>\n",
       "      <td>0.000694</td>\n",
       "      <td>...</td>\n",
       "      <td>0.004691</td>\n",
       "      <td>0.000864</td>\n",
       "      <td>0.004394</td>\n",
       "      <td>0.004521</td>\n",
       "      <td>0.006326</td>\n",
       "      <td>0.003542</td>\n",
       "      <td>0.000252</td>\n",
       "      <td>0.000389</td>\n",
       "      <td>0.000559</td>\n",
       "      <td>0.001547</td>\n",
       "    </tr>\n",
       "    <tr>\n",
       "      <th>2</th>\n",
       "      <td>1872382287_15</td>\n",
       "      <td>0.002689</td>\n",
       "      <td>0.006433</td>\n",
       "      <td>0.000501</td>\n",
       "      <td>0.000498</td>\n",
       "      <td>0.003042</td>\n",
       "      <td>0.000261</td>\n",
       "      <td>0.003481</td>\n",
       "      <td>0.001180</td>\n",
       "      <td>0.001625</td>\n",
       "      <td>...</td>\n",
       "      <td>0.005297</td>\n",
       "      <td>0.000624</td>\n",
       "      <td>0.001575</td>\n",
       "      <td>0.004882</td>\n",
       "      <td>0.003599</td>\n",
       "      <td>0.001388</td>\n",
       "      <td>0.000271</td>\n",
       "      <td>0.000254</td>\n",
       "      <td>0.000853</td>\n",
       "      <td>0.000525</td>\n",
       "    </tr>\n",
       "    <tr>\n",
       "      <th>3</th>\n",
       "      <td>1872382287_20</td>\n",
       "      <td>0.003968</td>\n",
       "      <td>0.005301</td>\n",
       "      <td>0.000409</td>\n",
       "      <td>0.000337</td>\n",
       "      <td>0.002578</td>\n",
       "      <td>0.000546</td>\n",
       "      <td>0.001688</td>\n",
       "      <td>0.001314</td>\n",
       "      <td>0.001499</td>\n",
       "      <td>...</td>\n",
       "      <td>0.003899</td>\n",
       "      <td>0.000512</td>\n",
       "      <td>0.001381</td>\n",
       "      <td>0.003995</td>\n",
       "      <td>0.006398</td>\n",
       "      <td>0.002049</td>\n",
       "      <td>0.000157</td>\n",
       "      <td>0.000545</td>\n",
       "      <td>0.000509</td>\n",
       "      <td>0.001253</td>\n",
       "    </tr>\n",
       "    <tr>\n",
       "      <th>4</th>\n",
       "      <td>1872382287_25</td>\n",
       "      <td>0.001835</td>\n",
       "      <td>0.001738</td>\n",
       "      <td>0.000651</td>\n",
       "      <td>0.000423</td>\n",
       "      <td>0.006607</td>\n",
       "      <td>0.000982</td>\n",
       "      <td>0.001143</td>\n",
       "      <td>0.001365</td>\n",
       "      <td>0.001177</td>\n",
       "      <td>...</td>\n",
       "      <td>0.006686</td>\n",
       "      <td>0.000833</td>\n",
       "      <td>0.003624</td>\n",
       "      <td>0.002203</td>\n",
       "      <td>0.003343</td>\n",
       "      <td>0.007066</td>\n",
       "      <td>0.000207</td>\n",
       "      <td>0.000513</td>\n",
       "      <td>0.000622</td>\n",
       "      <td>0.001363</td>\n",
       "    </tr>\n",
       "  </tbody>\n",
       "</table>\n",
       "<p>5 rows × 183 columns</p>\n",
       "</div>"
      ],
      "text/plain": [
       "          row_id    asbfly   ashdro1   ashpri1   ashwoo2   asikoe2   asiope1  \\\n",
       "0   1872382287_5  0.004292  0.005831  0.000661  0.000982  0.002183  0.000507   \n",
       "1  1872382287_10  0.003028  0.004529  0.000466  0.000658  0.003599  0.000515   \n",
       "2  1872382287_15  0.002689  0.006433  0.000501  0.000498  0.003042  0.000261   \n",
       "3  1872382287_20  0.003968  0.005301  0.000409  0.000337  0.002578  0.000546   \n",
       "4  1872382287_25  0.001835  0.001738  0.000651  0.000423  0.006607  0.000982   \n",
       "\n",
       "    aspfly1   aspswi1   barfly1  ...   whbwoo2   whcbar1   whiter2    whrmun  \\\n",
       "0  0.002637  0.000673  0.000792  ...  0.002693  0.000534  0.001849  0.005823   \n",
       "1  0.003603  0.001392  0.000694  ...  0.004691  0.000864  0.004394  0.004521   \n",
       "2  0.003481  0.001180  0.001625  ...  0.005297  0.000624  0.001575  0.004882   \n",
       "3  0.001688  0.001314  0.001499  ...  0.003899  0.000512  0.001381  0.003995   \n",
       "4  0.001143  0.001365  0.001177  ...  0.006686  0.000833  0.003624  0.002203   \n",
       "\n",
       "    whtkin2    woosan   wynlau1   yebbab1   yebbul3   zitcis1  \n",
       "0  0.008234  0.002441  0.000124  0.000262  0.000440  0.001411  \n",
       "1  0.006326  0.003542  0.000252  0.000389  0.000559  0.001547  \n",
       "2  0.003599  0.001388  0.000271  0.000254  0.000853  0.000525  \n",
       "3  0.006398  0.002049  0.000157  0.000545  0.000509  0.001253  \n",
       "4  0.003343  0.007066  0.000207  0.000513  0.000622  0.001363  \n",
       "\n",
       "[5 rows x 183 columns]"
      ]
     },
     "execution_count": 10,
     "metadata": {},
     "output_type": "execute_result"
    }
   ],
   "source": [
    "# Submit prediction\n",
    "pred_df = pd.DataFrame(ids, columns=['row_id'])\n",
    "pred_df.loc[:, CFG.class_names] = preds\n",
    "pred_df.to_csv('submission.csv',index=False)\n",
    "pred_df.head()"
   ]
  },
  {
   "cell_type": "markdown",
   "id": "c7d885e2",
   "metadata": {
    "papermill": {
     "duration": 0.009591,
     "end_time": "2024-04-20T13:09:16.691173",
     "exception": false,
     "start_time": "2024-04-20T13:09:16.681582",
     "status": "completed"
    },
    "tags": []
   },
   "source": [
    "# Reference ✍️\n",
    "* [Fake Speech Detection: Conformer [TF]](https://www.kaggle.com/code/awsaf49/fake-speech-detection-conformer-tf/) by @awsaf49\n",
    "* [RANZCR: EfficientNet TPU Training](https://www.kaggle.com/code/xhlulu/ranzcr-efficientnet-tpu-training) by @xhlulu\n",
    "* [Triple Stratified KFold with TFRecords](https://www.kaggle.com/code/cdeotte/triple-stratified-kfold-with-tfrecords) by @cdeotte"
   ]
  }
 ],
 "metadata": {
  "kaggle": {
   "accelerator": "none",
   "dataSources": [
    {
     "databundleVersionId": 8068726,
     "sourceId": 70203,
     "sourceType": "competition"
    },
    {
     "databundleVersionId": 7429415,
     "modelInstanceId": 4598,
     "sourceId": 6127,
     "sourceType": "modelInstanceVersion"
    },
    {
     "databundleVersionId": 7429413,
     "modelInstanceId": 4596,
     "sourceId": 6125,
     "sourceType": "modelInstanceVersion"
    },
    {
     "sourceId": 172963793,
     "sourceType": "kernelVersion"
    }
   ],
   "isGpuEnabled": false,
   "isInternetEnabled": false,
   "language": "python",
   "sourceType": "notebook"
  },
  "kernelspec": {
   "display_name": "Python 3",
   "language": "python",
   "name": "python3"
  },
  "language_info": {
   "codemirror_mode": {
    "name": "ipython",
    "version": 3
   },
   "file_extension": ".py",
   "mimetype": "text/x-python",
   "name": "python",
   "nbconvert_exporter": "python",
   "pygments_lexer": "ipython3",
   "version": "3.10.13"
  },
  "papermill": {
   "default_parameters": {},
   "duration": 83.28261,
   "end_time": "2024-04-20T13:09:19.495414",
   "environment_variables": {},
   "exception": null,
   "input_path": "__notebook__.ipynb",
   "output_path": "__notebook__.ipynb",
   "parameters": {},
   "start_time": "2024-04-20T13:07:56.212804",
   "version": "2.5.0"
  }
 },
 "nbformat": 4,
 "nbformat_minor": 5
}
